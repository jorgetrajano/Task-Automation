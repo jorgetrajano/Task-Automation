{
 "cells": [
  {
   "cell_type": "markdown",
   "metadata": {},
   "source": [
    "### Importar Arquivos e Bibliotecas"
   ]
  },
  {
   "cell_type": "code",
   "execution_count": 17,
   "metadata": {},
   "outputs": [],
   "source": [
    "import pandas as pd\n",
    "import pathlib\n",
    "import win32com.client as win32"
   ]
  },
  {
   "cell_type": "code",
   "execution_count": 18,
   "metadata": {},
   "outputs": [],
   "source": [
    "emails = pd.read_excel(r'Bases de Dados\\Emails.xlsx')\n",
    "lojas = pd.read_csv(r'Bases de Dados\\Lojas.csv', encoding='latin1', sep=';')\n",
    "vendas = pd.read_excel(r'Bases de Dados\\Vendas.xlsx')\n",
    "\n",
    "# display(emails)\n",
    "# display(lojas)\n",
    "# display(vendas)"
   ]
  },
  {
   "cell_type": "markdown",
   "metadata": {},
   "source": [
    "###  Definir Criar uma Tabela para cada Loja e Definir o dia do Indicador"
   ]
  },
  {
   "cell_type": "code",
   "execution_count": 19,
   "metadata": {},
   "outputs": [],
   "source": [
    "vendas = vendas.merge(lojas, on='ID Loja')"
   ]
  },
  {
   "cell_type": "code",
   "execution_count": 20,
   "metadata": {},
   "outputs": [],
   "source": [
    "\n",
    "dic_lojas = {}\n",
    "for loja in lojas['Loja']:\n",
    "    dic_lojas[loja] = vendas.loc[vendas['Loja']==loja, :]\n",
    "\n"
   ]
  },
  {
   "cell_type": "code",
   "execution_count": 21,
   "metadata": {},
   "outputs": [],
   "source": [
    "dia_indicador = vendas['Data'].max()"
   ]
  },
  {
   "cell_type": "markdown",
   "metadata": {},
   "source": [
    "### Salvar a planilha na pasta de backup"
   ]
  },
  {
   "cell_type": "code",
   "execution_count": 22,
   "metadata": {},
   "outputs": [],
   "source": [
    "\n",
    "caminho_backup = pathlib.Path(r'Backup Arquivos Lojas')\n",
    "\n",
    "arquivos_pasta_backup = caminho_backup.iterdir()\n",
    "\n",
    "lista_nomes_backup = [arquivo.name for arquivo in arquivos_pasta_backup]\n",
    "\n",
    "for loja in dic_lojas:\n",
    "    if loja not in lista_nomes_backup:\n",
    "        nova_pasta = caminho_backup / loja\n",
    "        nova_pasta.mkdir()\n",
    "    \n",
    "    nome_arquivo = '{}_{}_{}.xlsx'.format(dia_indicador.month, dia_indicador.day, loja)\n",
    "    local_arquivo = caminho_backup / loja / nome_arquivo\n",
    "    \n",
    "    dic_lojas[loja].to_excel(local_arquivo)"
   ]
  },
  {
   "cell_type": "markdown",
   "metadata": {},
   "source": [
    "### Calcular o indicador para 1 loja e Enviar por e-mail para o gerente"
   ]
  },
  {
   "cell_type": "code",
   "execution_count": 36,
   "metadata": {},
   "outputs": [],
   "source": [
    "meta_faturamento_dia = 1000\n",
    "meta_faturamento_ano = 1650000\n",
    "meta_produtos_dia = 4\n",
    "meta_produtos_ano = 120\n",
    "meta_ticket = 500"
   ]
  },
  {
   "cell_type": "code",
   "execution_count": 37,
   "metadata": {
    "scrolled": true
   },
   "outputs": [
    {
     "name": "stdout",
     "output_type": "stream",
     "text": [
      "Email da Loja Iguatemi Esplanada enviado!\n",
      "Email da Loja Shopping Midway Mall enviado!\n",
      "Email da Loja Norte Shopping enviado!\n",
      "Email da Loja Shopping Iguatemi Fortaleza enviado!\n",
      "Email da Loja Shopping União de Osasco enviado!\n",
      "Email da Loja Shopping Center Interlagos enviado!\n",
      "Email da Loja Rio Mar Recife enviado!\n",
      "Email da Loja Salvador Shopping enviado!\n",
      "Email da Loja Rio Mar Shopping Fortaleza enviado!\n",
      "Email da Loja Shopping Center Leste Aricanduva enviado!\n",
      "Email da Loja Ribeirão Shopping enviado!\n",
      "Email da Loja Shopping Morumbi enviado!\n",
      "Email da Loja Parque Dom Pedro Shopping enviado!\n",
      "Email da Loja Bourbon Shopping SP enviado!\n",
      "Email da Loja Palladium Shopping Curitiba enviado!\n",
      "Email da Loja Passei das Águas Shopping enviado!\n",
      "Email da Loja Center Shopping Uberlândia enviado!\n",
      "Email da Loja Shopping Recife enviado!\n",
      "Email da Loja Shopping Vila Velha enviado!\n",
      "Email da Loja Shopping SP Market enviado!\n",
      "Email da Loja Shopping Eldorado enviado!\n",
      "Email da Loja Shopping Ibirapuera enviado!\n",
      "Email da Loja Novo Shopping Ribeirão Preto enviado!\n",
      "Email da Loja Iguatemi Campinas enviado!\n",
      "Email da Loja Shopping Barra enviado!\n"
     ]
    }
   ],
   "source": [
    "for loja in dic_lojas:\n",
    "\n",
    "    vendas_loja = dic_lojas[loja]\n",
    "\n",
    "    vendas_loja_dia = vendas_loja.loc[vendas_loja['Data']==dia_indicador, :]\n",
    "\n",
    "    # Faturamento\n",
    "    faturamento_ano = vendas_loja['Valor Final'].sum()\n",
    "\n",
    "    faturamento_dia = vendas_loja_dia['Valor Final'].sum()\n",
    "\n",
    "\n",
    "    # diversidade de produtos\n",
    "\n",
    "    qtde_produtos_ano = len(vendas_loja['Produto'].unique())\n",
    "    qtde_produtos_dia = len(vendas_loja_dia['Produto'].unique())\n",
    "\n",
    "    # Ticket Médio\n",
    "\n",
    "    valor_venda = vendas_loja.groupby('Código Venda').sum()\n",
    "\n",
    "    valor_venda_dia = vendas_loja_dia.groupby('Código Venda').sum()\n",
    "\n",
    "    ticket_ano = valor_venda['Valor Final'].mean()\n",
    "\n",
    "    ticket_dia = valor_venda_dia['Valor Final'].mean()\n",
    "    \n",
    "    # Enviar email\n",
    "    outlook = win32.Dispatch('outlook.application')\n",
    "\n",
    "    nome = emails.loc[emails['Loja']==loja, 'Gerente'].values[0]\n",
    "    mail = outlook.CreateItem(0)\n",
    "    mail.To = emails.loc[emails['Loja']==loja, 'E-mail'].values[0]\n",
    "    mail.Subject = f'OnePage Dia {dia_indicador.day}/{dia_indicador.month} - Loja {lojas}'\n",
    "\n",
    "    if faturamento_dia >= meta_faturamento_dia:\n",
    "        cor_fat_dia = 'green'\n",
    "    else:\n",
    "        cor_fat_dia = 'red'\n",
    "    if faturamento_ano >= meta_faturamento_ano:\n",
    "        cor_fat_ano = 'green'\n",
    "    else:\n",
    "        cor_fat_ano = 'red'\n",
    "    if qtde_produtos_dia >= meta_produtos_dia:\n",
    "        cor_qtde_dia = 'green'\n",
    "    else:\n",
    "        cor_qtde_dia = 'red'\n",
    "    if qtde_produtos_ano >= meta_produtos_ano:\n",
    "        cor_qtde_ano = 'green'\n",
    "    else:\n",
    "        cor_qtde_ano = 'red'\n",
    "    if ticket_dia >= meta_ticket:\n",
    "        cor_ticket_dia = 'green'\n",
    "    else:\n",
    "        cor_ticket_dia = 'red'\n",
    "    if ticket_ano >= meta_ticket:\n",
    "        cor_ticket_ano = 'green'\n",
    "    else:\n",
    "        cor_ticket_ano = 'red'\n",
    "\n",
    "\n",
    "    mail.HTMLBody = f'''\n",
    "    <p>Bom dia, {nome}</p>\n",
    "\n",
    "    <p>O resultado de ontem <strong>({dia_indicador.day}/{dia_indicador.month})</strong> da <sotrong>Loja {loja}</strong> foi:</p>\n",
    "\n",
    "    <table>\n",
    "      <tr>\n",
    "        <th>Indicador</th>\n",
    "        <th>Valor Dia</th>\n",
    "        <th>Meta Dia</th>\n",
    "        <th>Cenário Dia</th>\n",
    "      </tr>\n",
    "      <tr>\n",
    "        <td>Faturamento</td>\n",
    "        <td style=\"text-align: center\">R$ {faturamento_dia:,.2f}</td>\n",
    "        <td style=\"text-align: center\">R$ {meta_faturamento_dia:,.2f}</td>\n",
    "        <td style=\"text-align: center\"><font color=\"{cor_fat_dia}\">◙</font></td>\n",
    "      </tr>\n",
    "      <tr>\n",
    "        <td>Diversidade de Produtos</td>\n",
    "        <td style=\"text-align: center\">{qtde_produtos_dia}</td>\n",
    "        <td style=\"text-align: center\">{meta_produtos_dia}</td>\n",
    "        <td style=\"text-align: center\"><font color=\"{cor_qtde_dia}\">◙</font></td>\n",
    "      </tr>\n",
    "      <tr>\n",
    "        <td>Ticket Médio</td>\n",
    "        <td style=\"text-align: center\">R$ {ticket_dia:,.2f}</td>\n",
    "        <td style=\"text-align: center\">R$ {meta_ticket:,.2f}</td>\n",
    "        <td style=\"text-align: center\"><font color=\"{cor_ticket_dia}\">◙</font></td>\n",
    "      </tr>\n",
    "    </table>\n",
    "    <br>\n",
    "    <table>\n",
    "      <tr>\n",
    "        <th>Indicador</th>\n",
    "        <th>Valor Dia</th>\n",
    "        <th>Meta Dia</th>\n",
    "        <th>Cenário Dia</th>\n",
    "      </tr>\n",
    "      <tr>\n",
    "        <td>Faturamento</td>\n",
    "        <td style=\"text-align: center\">R$ {faturamento_ano:,.2f}</td>\n",
    "        <td style=\"text-align: center\">R$ {meta_faturamento_ano:,.2f}</td>\n",
    "        <td style=\"text-align: center\"><font color=\"{cor_fat_ano}\">◙</font></td>\n",
    "      </tr>\n",
    "      <tr>\n",
    "        <td>Diversidade de Produtos</td>\n",
    "        <td style=\"text-align: center\">{qtde_produtos_ano}</td>\n",
    "        <td style=\"text-align: center\">{meta_produtos_ano}</td>\n",
    "        <td style=\"text-align: center\"><font color=\"{cor_qtde_ano}\">◙</font></td>\n",
    "      </tr>\n",
    "      <tr>\n",
    "        <td>Ticket Médio</td>\n",
    "        <td style=\"text-align: center\">R$ {ticket_ano:,.2f}</td>\n",
    "        <td style=\"text-align: center\">R$ {meta_ticket:,.2f}</td>\n",
    "        <td style=\"text-align: center\"><font color=\"{cor_ticket_ano}\">◙</font></td>\n",
    "      </tr>\n",
    "    </table>\n",
    "\n",
    "    <p>Segue em anexo a planilha com todos os dados para mais detalhes.</p>\n",
    "\n",
    "    <p>Qualquer dúvida, estou à disposição!</p>\n",
    "    <p>Atenciosamente,</p>\n",
    "    '''\n",
    "\n",
    "    attachment = pathlib.Path.cwd() / caminho_backup / loja / f'{dia_indicador.month}_{dia_indicador.day}_{loja}.xlsx'\n",
    "    mail.Attachments.Add(str(attachment))\n",
    "\n",
    "    mail.Send()\n",
    "    print(f'Email da Loja {loja} enviado!')"
   ]
  },
  {
   "cell_type": "markdown",
   "metadata": {},
   "source": [
    "### Criar ranking para diretoria"
   ]
  },
  {
   "cell_type": "code",
   "execution_count": 43,
   "metadata": {},
   "outputs": [],
   "source": [
    "faturamento_lojas_ano = vendas.groupby('Loja')[['Loja', 'Valor Final']].sum().sort_values(by='Valor Final', ascending=False)\n",
    "\n",
    "nome_arquivo = '{}_{}_Ranking Anual.xlsx'.format(dia_indicador.month, dia_indicador.day)\n",
    "faturamento_lojas_ano.to_excel(r'Backup Arquivos Lojas\\{}'.format(nome_arquivo))\n",
    "\n",
    "\n",
    "vendas_dia = vendas.loc[vendas['Data']==dia_indicador, :]\n",
    "faturamento_lojas_dia = vendas_dia.groupby('Loja')[['Loja', 'Valor Final']].sum().sort_values(by='Valor Final', ascending=False)\n",
    "\n",
    "nome_arquivo = '{}_{}_Ranking do Dia.xlsx'.format(dia_indicador.month, dia_indicador.day)\n",
    "faturamento_lojas_dia.to_excel(r'Backup Arquivos Lojas\\{}'.format(nome_arquivo))"
   ]
  },
  {
   "cell_type": "markdown",
   "metadata": {},
   "source": [
    "### Enviar e-mail para diretoria"
   ]
  },
  {
   "cell_type": "code",
   "execution_count": 45,
   "metadata": {},
   "outputs": [
    {
     "name": "stdout",
     "output_type": "stream",
     "text": [
      "Email da Diretoria enviado!\n"
     ]
    }
   ],
   "source": [
    "# Enviar email\n",
    "outlook = win32.Dispatch('outlook.application')\n",
    "\n",
    "\n",
    "mail = outlook.CreateItem(0)\n",
    "mail.To = emails.loc[emails['Loja']=='Diretoria', 'E-mail'].values[0]\n",
    "mail.Subject = f'Ranking Dia {dia_indicador.day}/{dia_indicador.month} - Loja {lojas}'\n",
    "\n",
    "mail.Body = f'''\n",
    "Prezados, bom dia\n",
    "\n",
    "Melhor loja do DIA em faturamento: Loja {faturamento_lojas_dia.index[0]} com de faturamento R$ {faturamento_lojas_dia.iloc[0,0]:,.2f}.\n",
    "Pior loja do DIA em faturamento: Loja {faturamento_lojas_dia.index[-1]} com de faturamento R$ {faturamento_lojas_dia.iloc[-1,0]:,.2f}.\n",
    "\n",
    "\n",
    "Melhor loja do ANO em faturamento: Loja {faturamento_lojas_ano.index[0]} com de faturamento R$ {faturamento_lojas_ano.iloc[0,0]:,.2f}.\n",
    "Pior loja do ANO em faturamento: Loja {faturamento_lojas_ano.index[-1]} com de faturamento R$ {faturamento_lojas_ano.iloc[-1,0]:,.2f}.\n",
    "\n",
    "Segue em anexo os rankings do ano e do dia de todas as lojas.\n",
    "\n",
    "Qualquer dúvida, estou à disposição\n",
    "\n",
    "Atenciosamente,\n",
    "Jorge Trajano\n",
    "'''\n",
    "\n",
    "attachment = pathlib.Path.cwd() / caminho_backup / f'{dia_indicador.month}_{dia_indicador.day}_Ranking Anual.xlsx'\n",
    "mail.Attachments.Add(str(attachment))\n",
    "attachment = pathlib.Path.cwd() / caminho_backup / f'{dia_indicador.month}_{dia_indicador.day}_Ranking do Dia.xlsx'\n",
    "mail.Attachments.Add(str(attachment))\n",
    "\n",
    "mail.Send()\n",
    "print(f'Email da Diretoria enviado!')"
   ]
  }
 ],
 "metadata": {
  "kernelspec": {
   "display_name": "Python 3 (ipykernel)",
   "language": "python",
   "name": "python3"
  },
  "language_info": {
   "codemirror_mode": {
    "name": "ipython",
    "version": 3
   },
   "file_extension": ".py",
   "mimetype": "text/x-python",
   "name": "python",
   "nbconvert_exporter": "python",
   "pygments_lexer": "ipython3",
   "version": "3.9.7"
  }
 },
 "nbformat": 4,
 "nbformat_minor": 4
}
